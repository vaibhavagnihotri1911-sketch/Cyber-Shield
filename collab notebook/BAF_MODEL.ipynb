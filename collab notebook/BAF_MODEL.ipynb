{
  "nbformat": 4,
  "nbformat_minor": 0,
  "metadata": {
    "colab": {
      "provenance": [],
      "gpuType": "T4"
    },
    "kernelspec": {
      "name": "python3",
      "display_name": "Python 3"
    },
    "language_info": {
      "name": "python"
    },
    "accelerator": "GPU"
  },
  "cells": [
    {
      "cell_type": "code",
      "execution_count": null,
      "metadata": {
        "colab": {
          "base_uri": "https://localhost:8080/"
        },
        "id": "pywLdB51uLzW",
        "outputId": "621aaef8-4623-4188-e6e0-b6fba24905dd"
      },
      "outputs": [
        {
          "output_type": "stream",
          "name": "stdout",
          "text": [
            "Warning: Looks like you're using an outdated `kagglehub` version (installed: 0.3.12), please consider upgrading to the latest version (0.3.13).\n",
            "Downloading from https://www.kaggle.com/api/v1/datasets/download/sgpjesus/bank-account-fraud-dataset-neurips-2022?dataset_version_number=2...\n"
          ]
        },
        {
          "output_type": "stream",
          "name": "stderr",
          "text": [
            "100%|██████████| 532M/532M [00:25<00:00, 21.6MB/s]"
          ]
        },
        {
          "output_type": "stream",
          "name": "stdout",
          "text": [
            "Extracting files...\n"
          ]
        },
        {
          "output_type": "stream",
          "name": "stderr",
          "text": [
            "\n"
          ]
        },
        {
          "output_type": "stream",
          "name": "stdout",
          "text": [
            "Path to BAF dataset files: /root/.cache/kagglehub/datasets/sgpjesus/bank-account-fraud-dataset-neurips-2022/versions/2\n"
          ]
        }
      ],
      "source": [
        "import kagglehub\n",
        "\n",
        "path = kagglehub.dataset_download(\"sgpjesus/bank-account-fraud-dataset-neurips-2022\")\n",
        "print(\"Path to BAF dataset files:\", path)\n"
      ]
    },
    {
      "cell_type": "code",
      "source": [
        "!pip install xgboost imbalanced-learn plotly streamlit shap -q\n"
      ],
      "metadata": {
        "colab": {
          "base_uri": "https://localhost:8080/"
        },
        "id": "TkFXRj4GuQug",
        "outputId": "4a48fddd-cb40-48eb-b296-9e423c6c7d00"
      },
      "execution_count": null,
      "outputs": [
        {
          "output_type": "stream",
          "name": "stdout",
          "text": [
            "\u001b[2K   \u001b[90m━━━━━━━━━━━━━━━━━━━━━━━━━━━━━━━━━━━━━━━━\u001b[0m \u001b[32m10.0/10.0 MB\u001b[0m \u001b[31m101.8 MB/s\u001b[0m eta \u001b[36m0:00:00\u001b[0m\n",
            "\u001b[2K   \u001b[90m━━━━━━━━━━━━━━━━━━━━━━━━━━━━━━━━━━━━━━━━\u001b[0m \u001b[32m6.9/6.9 MB\u001b[0m \u001b[31m33.1 MB/s\u001b[0m eta \u001b[36m0:00:00\u001b[0m\n",
            "\u001b[?25h"
          ]
        }
      ]
    },
    {
      "cell_type": "code",
      "source": [
        "import pandas as pd\n",
        "import numpy as np\n",
        "import warnings\n",
        "warnings.filterwarnings('ignore')\n",
        "\n",
        "df_baf = pd.read_csv(f'{path}/Base.csv')\n",
        "print(\"BAF Dataset shape:\", df_baf.shape)\n",
        "print(\"\\nFirst few rows:\")\n",
        "print(df_baf.head())\n",
        "print(\"\\nTarget distribution:\")\n",
        "print(df_baf['fraud_bool'].value_counts())\n"
      ],
      "metadata": {
        "colab": {
          "base_uri": "https://localhost:8080/"
        },
        "id": "cw_4irP4uTWw",
        "outputId": "7cda31cf-f005-4ca2-de95-5e399f4d3aed"
      },
      "execution_count": null,
      "outputs": [
        {
          "output_type": "stream",
          "name": "stdout",
          "text": [
            "BAF Dataset shape: (1000000, 32)\n",
            "\n",
            "First few rows:\n",
            "   fraud_bool  income  name_email_similarity  prev_address_months_count  \\\n",
            "0           0     0.3               0.986506                         -1   \n",
            "1           0     0.8               0.617426                         -1   \n",
            "2           0     0.8               0.996707                          9   \n",
            "3           0     0.6               0.475100                         11   \n",
            "4           0     0.9               0.842307                         -1   \n",
            "\n",
            "   current_address_months_count  customer_age  days_since_request  \\\n",
            "0                            25            40            0.006735   \n",
            "1                            89            20            0.010095   \n",
            "2                            14            40            0.012316   \n",
            "3                            14            30            0.006991   \n",
            "4                            29            40            5.742626   \n",
            "\n",
            "   intended_balcon_amount payment_type  zip_count_4w  ...  has_other_cards  \\\n",
            "0              102.453711           AA          1059  ...                0   \n",
            "1               -0.849551           AD          1658  ...                0   \n",
            "2               -1.490386           AB          1095  ...                0   \n",
            "3               -1.863101           AB          3483  ...                0   \n",
            "4               47.152498           AA          2339  ...                0   \n",
            "\n",
            "   proposed_credit_limit  foreign_request    source  \\\n",
            "0                 1500.0                0  INTERNET   \n",
            "1                 1500.0                0  INTERNET   \n",
            "2                  200.0                0  INTERNET   \n",
            "3                  200.0                0  INTERNET   \n",
            "4                  200.0                0  INTERNET   \n",
            "\n",
            "   session_length_in_minutes device_os  keep_alive_session  \\\n",
            "0                  16.224843     linux                   1   \n",
            "1                   3.363854     other                   1   \n",
            "2                  22.730559   windows                   0   \n",
            "3                  15.215816     linux                   1   \n",
            "4                   3.743048     other                   0   \n",
            "\n",
            "   device_distinct_emails_8w device_fraud_count  month  \n",
            "0                          1                  0      0  \n",
            "1                          1                  0      0  \n",
            "2                          1                  0      0  \n",
            "3                          1                  0      0  \n",
            "4                          1                  0      0  \n",
            "\n",
            "[5 rows x 32 columns]\n",
            "\n",
            "Target distribution:\n",
            "fraud_bool\n",
            "0    988971\n",
            "1     11029\n",
            "Name: count, dtype: int64\n"
          ]
        }
      ]
    },
    {
      "cell_type": "code",
      "source": [
        "from sklearn.preprocessing import StandardScaler, LabelEncoder\n",
        "\n",
        "for col in df_baf.columns:\n",
        "    if df_baf[col].dtype == 'object':\n",
        "        df_baf[col].fillna('Unknown', inplace=True)\n",
        "    else:\n",
        "        df_baf[col].fillna(df_baf[col].median(), inplace=True)\n",
        "\n",
        "numerical_cols = df_baf.select_dtypes(include=[np.number]).columns\n",
        "for col in numerical_cols:\n",
        "    if 'amount' in col.lower() or 'balance' in col.lower():\n",
        "        df_baf[f'{col}_log'] = np.log1p(df_baf[col].abs())\n",
        "        df_baf[f'{col}_sqrt'] = np.sqrt(df_baf[col].abs())\n",
        "\n",
        "le = LabelEncoder()\n",
        "cat_cols = df_baf.select_dtypes(include=['object']).columns\n",
        "cat_cols = [col for col in cat_cols if col != 'fraud_bool']\n",
        "\n",
        "for col in cat_cols:\n",
        "    df_baf[col + '_enc'] = le.fit_transform(df_baf[col].astype(str))\n",
        "    df_baf.drop(columns=[col], inplace=True)\n",
        "\n",
        "print('BAF Shape after encoding:', df_baf.shape)\n"
      ],
      "metadata": {
        "colab": {
          "base_uri": "https://localhost:8080/"
        },
        "id": "QZrXb3zgukV2",
        "outputId": "a1eaf8d9-bc53-4b19-d5da-c4511089e80b"
      },
      "execution_count": null,
      "outputs": [
        {
          "output_type": "stream",
          "name": "stdout",
          "text": [
            "BAF Shape after encoding: (1000000, 34)\n"
          ]
        }
      ]
    },
    {
      "cell_type": "code",
      "source": [
        "from sklearn.model_selection import train_test_split\n",
        "\n",
        "X_baf = df_baf.drop(['fraud_bool'], axis=1, errors='ignore')\n",
        "y_baf = df_baf['fraud_bool']\n",
        "\n",
        "if y_baf.dtype == 'bool':\n",
        "    y_baf = y_baf.astype(int)\n",
        "\n",
        "scaler_baf = StandardScaler()\n",
        "X_baf_scaled = scaler_baf.fit_transform(X_baf)\n",
        "\n",
        "X_train_baf, X_test_baf, y_train_baf, y_test_baf = train_test_split(\n",
        "    X_baf_scaled, y_baf,\n",
        "    test_size=0.2,\n",
        "    stratify=y_baf,\n",
        "    random_state=42\n",
        ")\n",
        "\n",
        "print(\"BAF Train shape:\", X_train_baf.shape)\n",
        "print(\"BAF Test shape:\", X_test_baf.shape)\n"
      ],
      "metadata": {
        "colab": {
          "base_uri": "https://localhost:8080/"
        },
        "id": "qpccDk_sunDg",
        "outputId": "a8e6aa3c-2b67-4604-aa64-6af5bd1f22af"
      },
      "execution_count": null,
      "outputs": [
        {
          "output_type": "stream",
          "name": "stdout",
          "text": [
            "BAF Train shape: (800000, 33)\n",
            "BAF Test shape: (200000, 33)\n"
          ]
        }
      ]
    },
    {
      "cell_type": "code",
      "source": [
        "from imblearn.over_sampling import SMOTE\n",
        "\n",
        "smote_baf = SMOTE(random_state=42)\n",
        "X_train_baf_sm, y_train_baf_sm = smote_baf.fit_resample(X_train_baf, y_train_baf)\n",
        "\n",
        "print(\"BAF Original fraud ratio:\", y_train_baf.mean())\n",
        "print(\"BAF Post-SMOTE fraud ratio:\", y_train_baf_sm.mean())\n",
        "print(\"BAF SMOTE applied: X_train_baf_sm shape:\", X_train_baf_sm.shape)\n"
      ],
      "metadata": {
        "colab": {
          "base_uri": "https://localhost:8080/"
        },
        "id": "Ww-P5f3Kut2U",
        "outputId": "4597cd21-6246-4b33-fa10-a44425f9a4ab"
      },
      "execution_count": null,
      "outputs": [
        {
          "output_type": "stream",
          "name": "stdout",
          "text": [
            "BAF Original fraud ratio: 0.01102875\n",
            "BAF Post-SMOTE fraud ratio: 0.5\n",
            "BAF SMOTE applied: X_train_baf_sm shape: (1582354, 33)\n"
          ]
        }
      ]
    },
    {
      "cell_type": "code",
      "source": [
        "import xgboost as xgb\n",
        "from sklearn.ensemble import RandomForestClassifier\n",
        "from sklearn.linear_model import LogisticRegression\n",
        "\n",
        "# 1) XGBoost for BAF\n",
        "xgb_model_baf = xgb.XGBClassifier(\n",
        "    n_estimators=300,\n",
        "    max_depth=6,\n",
        "    learning_rate=0.1,\n",
        "    subsample=0.8,\n",
        "    colsample_bytree=0.8,\n",
        "    random_state=42,\n",
        "    use_label_encoder=False,\n",
        "    eval_metric='logloss'\n",
        ")\n",
        "xgb_model_baf.fit(X_train_baf_sm, y_train_baf_sm)\n",
        "\n",
        "# 2) Random Forest for BAF\n",
        "rf_model_baf = RandomForestClassifier(\n",
        "    n_estimators=200,\n",
        "    max_depth=10,\n",
        "    random_state=42,\n",
        "    n_jobs=-1\n",
        ")\n",
        "rf_model_baf.fit(X_train_baf_sm, y_train_baf_sm)\n",
        "\n",
        "# 3) Logistic Regression for BAF\n",
        "lr_model_baf = LogisticRegression(\n",
        "    max_iter=1000,\n",
        "    random_state=42\n",
        ")\n",
        "lr_model_baf.fit(X_train_baf_sm, y_train_baf_sm)\n",
        "\n",
        "print(\"BAF Models trained successfully.\")\n"
      ],
      "metadata": {
        "colab": {
          "base_uri": "https://localhost:8080/"
        },
        "id": "QP4F42FJuuf8",
        "outputId": "3de794f5-3312-496f-ad59-db47853c3f71"
      },
      "execution_count": null,
      "outputs": [
        {
          "output_type": "stream",
          "name": "stdout",
          "text": [
            "BAF Models trained successfully.\n"
          ]
        }
      ]
    },
    {
      "cell_type": "code",
      "source": [
        "from sklearn.metrics import accuracy_score, precision_score, recall_score, f1_score, roc_auc_score\n",
        "\n",
        "xgb_pred_baf = xgb_model_baf.predict(X_test_baf)\n",
        "rf_pred_baf = rf_model_baf.predict(X_test_baf)\n",
        "lr_pred_baf = lr_model_baf.predict(X_test_baf)\n",
        "\n",
        "ensemble_pred_baf = (\n",
        "    0.4 * xgb_pred_baf +\n",
        "    0.3 * rf_pred_baf +\n",
        "    0.3 * lr_pred_baf\n",
        ").round().astype(int)\n",
        "\n",
        "print('BAF Ensemble Performance:')\n",
        "print('Accuracy:', accuracy_score(y_test_baf, ensemble_pred_baf))\n",
        "print('Precision:', precision_score(y_test_baf, ensemble_pred_baf))\n",
        "print('Recall:', recall_score(y_test_baf, ensemble_pred_baf))\n",
        "print('F1-score:', f1_score(y_test_baf, ensemble_pred_baf))\n",
        "print('AUC-ROC:', roc_auc_score(y_test_baf, ensemble_pred_baf))\n"
      ],
      "metadata": {
        "colab": {
          "base_uri": "https://localhost:8080/"
        },
        "id": "DvhCdsxbuxxc",
        "outputId": "aed89642-cd2f-439c-9aa0-fb75b40d66aa"
      },
      "execution_count": null,
      "outputs": [
        {
          "output_type": "stream",
          "name": "stdout",
          "text": [
            "BAF Ensemble Performance:\n",
            "Accuracy: 0.92884\n",
            "Precision: 0.08427820796460177\n",
            "Recall: 0.5525838621940163\n",
            "F1-score: 0.14625074985003\n",
            "AUC-ROC: 0.7428101267955634\n"
          ]
        }
      ]
    },
    {
      "cell_type": "code",
      "source": [
        "import pickle\n",
        "\n",
        "model_package_baf = {\n",
        "    'scaler': scaler_baf,\n",
        "    'xgb': xgb_model_baf,\n",
        "    'rf': rf_model_baf,\n",
        "    'lr': lr_model_baf,\n",
        "    'feature_names': list(X_baf.columns)\n",
        "}\n",
        "\n",
        "with open('baf_fraud_detection_model.pkl', 'wb') as f:\n",
        "    pickle.dump(model_package_baf, f)\n",
        "\n",
        "print(\"BAF Model saved to baf_fraud_detection_model.pkl\")\n",
        "\n",
        "from google.colab import files\n",
        "files.download('baf_fraud_detection_model.pkl')\n"
      ],
      "metadata": {
        "colab": {
          "base_uri": "https://localhost:8080/",
          "height": 34
        },
        "id": "K3vvOKxIu0R5",
        "outputId": "f10110b7-389e-4df2-bcc4-57ca1d460b2c"
      },
      "execution_count": null,
      "outputs": [
        {
          "output_type": "stream",
          "name": "stdout",
          "text": [
            "BAF Model saved to baf_fraud_detection_model.pkl\n"
          ]
        },
        {
          "output_type": "display_data",
          "data": {
            "text/plain": [
              "<IPython.core.display.Javascript object>"
            ],
            "application/javascript": [
              "\n",
              "    async function download(id, filename, size) {\n",
              "      if (!google.colab.kernel.accessAllowed) {\n",
              "        return;\n",
              "      }\n",
              "      const div = document.createElement('div');\n",
              "      const label = document.createElement('label');\n",
              "      label.textContent = `Downloading \"${filename}\": `;\n",
              "      div.appendChild(label);\n",
              "      const progress = document.createElement('progress');\n",
              "      progress.max = size;\n",
              "      div.appendChild(progress);\n",
              "      document.body.appendChild(div);\n",
              "\n",
              "      const buffers = [];\n",
              "      let downloaded = 0;\n",
              "\n",
              "      const channel = await google.colab.kernel.comms.open(id);\n",
              "      // Send a message to notify the kernel that we're ready.\n",
              "      channel.send({})\n",
              "\n",
              "      for await (const message of channel.messages) {\n",
              "        // Send a message to notify the kernel that we're ready.\n",
              "        channel.send({})\n",
              "        if (message.buffers) {\n",
              "          for (const buffer of message.buffers) {\n",
              "            buffers.push(buffer);\n",
              "            downloaded += buffer.byteLength;\n",
              "            progress.value = downloaded;\n",
              "          }\n",
              "        }\n",
              "      }\n",
              "      const blob = new Blob(buffers, {type: 'application/binary'});\n",
              "      const a = document.createElement('a');\n",
              "      a.href = window.URL.createObjectURL(blob);\n",
              "      a.download = filename;\n",
              "      div.appendChild(a);\n",
              "      a.click();\n",
              "      div.remove();\n",
              "    }\n",
              "  "
            ]
          },
          "metadata": {}
        },
        {
          "output_type": "display_data",
          "data": {
            "text/plain": [
              "<IPython.core.display.Javascript object>"
            ],
            "application/javascript": [
              "download(\"download_9847ce8c-3cca-4793-8d6e-f4e2da7b014b\", \"baf_fraud_detection_model.pkl\", 20535396)"
            ]
          },
          "metadata": {}
        }
      ]
    }
  ]
}